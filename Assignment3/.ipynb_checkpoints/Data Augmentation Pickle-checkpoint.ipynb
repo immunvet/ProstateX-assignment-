{
 "cells": [
  {
   "cell_type": "code",
   "execution_count": 1,
   "metadata": {},
   "outputs": [],
   "source": [
    "import sys\n",
    "import SimpleITK as sitk\n",
    "import matplotlib.pyplot as plt\n",
    "from matplotlib.gridspec import GridSpec\n",
    "%matplotlib inline \n",
    "import numpy as np\n",
    "import os\n",
    "import fnmatch\n",
    "import shutil\n",
    "from ipywidgets import interact, fixed\n",
    "import pandas as pd\n",
    "import warnings\n",
    "from skimage import exposure\n",
    "import _pickle as cPickle\n",
    "\n",
    "def myshow(image_arr,slice_n):\n",
    "    plt.imshow(image_arr[slice_n,:,:],cmap='gray')\n",
    "    plt.show()"
   ]
  },
  {
   "cell_type": "code",
   "execution_count": 4,
   "metadata": {},
   "outputs": [],
   "source": [
    "#Read Pickle files\n",
    "\n",
    "t2_df = pd.read_pickle('./t2_pickle')\n",
    "adc_df = pd.read_pickle('./adc_pickle')\n",
    "bval_df = pd.read_pickle('./bval_pickle')\n",
    "ktrans_df = pd.read_pickle('./ktrans_pickle')\n",
    "\n",
    "t2_df.name = 't2 modality'\n",
    "adc_df.name = 'adc modality'\n",
    "bval_df.name = 'bval modality'\n",
    "ktrans_df.name = 'ktrans modality'"
   ]
  },
  {
   "cell_type": "markdown",
   "metadata": {},
   "source": [
    "### Soft EDA before augmentation "
   ]
  },
  {
   "cell_type": "code",
   "execution_count": 5,
   "metadata": {},
   "outputs": [
    {
     "name": "stdout",
     "output_type": "stream",
     "text": [
      "Cancer or Not for t2 modality\n",
      "\n",
      "False    266\n",
      "True      81\n",
      "Name: ClinSig, dtype: int64 \n",
      "\n",
      "\n",
      "\n",
      "Cancer or Not for adc modality\n",
      "\n",
      "False    247\n",
      "True      68\n",
      "Name: ClinSig, dtype: int64 \n",
      "\n",
      "\n",
      "\n",
      "Cancer or Not for bval modality\n",
      "\n",
      "False    247\n",
      "True      68\n",
      "Name: ClinSig, dtype: int64 \n",
      "\n",
      "\n",
      "\n",
      "Cancer or Not for ktrans modality\n",
      "\n",
      "False    253\n",
      "True      73\n",
      "Name: ClinSig, dtype: int64 \n",
      "\n",
      "\n",
      "\n"
     ]
    }
   ],
   "source": [
    "#Starting Rotations \n",
    "#we have 81 Cancer Cases for t2 Modality \n",
    "#68 for adc and 68 for bval \n",
    "#and 73 for the ktrans modality \n",
    "\n",
    "def describe_df(data, column, what_describe = ''):\n",
    "    \n",
    "    print('{} for {}\\n'.format(what_describe, data.name))\n",
    "    print(data.loc[:,column].value_counts(), '\\n\\n\\n')\n",
    "    \n",
    "\n",
    "frames = [t2_df, adc_df, bval_df, ktrans_df]\n",
    "\n",
    "\n",
    "#describe biopsy findings \n",
    "\n",
    "for i in frames:\n",
    "    describe_df(i, 'ClinSig', 'Cancer or Not')"
   ]
  },
  {
   "cell_type": "code",
   "execution_count": null,
   "metadata": {},
   "outputs": [],
   "source": [
    "#we need to rotate images with cancer biopsy findings to balance our data and to reduce overfitting \n",
    "\n"
   ]
  },
  {
   "cell_type": "code",
   "execution_count": null,
   "metadata": {},
   "outputs": [],
   "source": []
  },
  {
   "cell_type": "code",
   "execution_count": null,
   "metadata": {},
   "outputs": [],
   "source": []
  },
  {
   "cell_type": "code",
   "execution_count": null,
   "metadata": {},
   "outputs": [],
   "source": []
  }
 ],
 "metadata": {
  "kernelspec": {
   "display_name": "Python 3",
   "language": "python",
   "name": "python3"
  },
  "language_info": {
   "codemirror_mode": {
    "name": "ipython",
    "version": 3
   },
   "file_extension": ".py",
   "mimetype": "text/x-python",
   "name": "python",
   "nbconvert_exporter": "python",
   "pygments_lexer": "ipython3",
   "version": "3.7.0"
  }
 },
 "nbformat": 4,
 "nbformat_minor": 2
}
