{
 "cells": [
  {
   "cell_type": "code",
   "execution_count": 3,
   "metadata": {},
   "outputs": [],
   "source": [
    "import sys\n",
    "import SimpleITK as sitk\n",
    "import matplotlib.pyplot as plt\n",
    "from matplotlib.gridspec import GridSpec\n",
    "%matplotlib inline \n",
    "import numpy as np\n",
    "import os\n",
    "import fnmatch\n",
    "import shutil\n",
    "from ipywidgets import interact, fixed\n",
    "import pandas as pd\n",
    "import warnings\n",
    "from skimage import exposure\n",
    "from skimage import data\n",
    "from skimage.transform import rotate\n",
    "import _pickle as cPickle\n",
    "import random\n",
    "\n",
    "\n",
    "def myshow(image_arr,slice_n):\n",
    "    plt.imshow(image_arr[slice_n,:,:],cmap='gray')\n",
    "    plt.show()"
   ]
  },
  {
   "cell_type": "code",
   "execution_count": 4,
   "metadata": {},
   "outputs": [],
   "source": [
    "#reading corresponding dataframes with arrays \n",
    "\n",
    "t2_df=pd.read_pickle('./t2_augmented.pkl')\n",
    "adc_df=pd.read_pickle('./adc_augmented.pkl')\n",
    "bval_df=pd.read_pickle('./bval_augmented.pkl')\n",
    "ktrans_df=pd.read_pickle('./ktrans_augmented.pkl')"
   ]
  },
  {
   "cell_type": "code",
   "execution_count": 5,
   "metadata": {},
   "outputs": [
    {
     "name": "stderr",
     "output_type": "stream",
     "text": [
      "/home/andrii/anaconda3/lib/python3.7/site-packages/ipykernel_launcher.py:7: RuntimeWarning: invalid value encountered in true_divide\n",
      "  import sys\n"
     ]
    }
   ],
   "source": [
    "#function to get zero-mean unit variance \n",
    "\n",
    "def get_optimized(data):\n",
    "    \n",
    "    for i in range(len(data)):\n",
    "        array = data.loc[i, 'patches']\n",
    "        optimized = (array - array.mean(axis=0)) / array.std(axis=0)\n",
    "        data.at[i, 'patches']=optimized\n",
    "    return data\n",
    "\n",
    "\n",
    "t2_o = get_optimized(t2_df)    \n",
    "adc_o = get_optimized(adc_df)\n",
    "bval_o = get_optimized(bval_df)\n",
    "ktrans_o = get_optimized(ktrans_df)\n"
   ]
  },
  {
   "cell_type": "code",
   "execution_count": 10,
   "metadata": {},
   "outputs": [],
   "source": [
    "#once we get adequately balanced datasets we can right them top the disk fopr further analysis\n",
    "\n",
    "\n",
    "\n",
    "\n",
    "t2_o.to_pickle('./t2_optimized.pkl')\n",
    "adc_o.to_pickle('./adc_optimized.pkl')\n",
    "bval_o.to_pickle('./bval_optimized.pkl')\n",
    "ktrans_o.to_pickle('./ktrans_optimized.pkl')"
   ]
  },
  {
   "cell_type": "code",
   "execution_count": null,
   "metadata": {},
   "outputs": [],
   "source": []
  }
 ],
 "metadata": {
  "kernelspec": {
   "display_name": "Python 3",
   "language": "python",
   "name": "python3"
  },
  "language_info": {
   "codemirror_mode": {
    "name": "ipython",
    "version": 3
   },
   "file_extension": ".py",
   "mimetype": "text/x-python",
   "name": "python",
   "nbconvert_exporter": "python",
   "pygments_lexer": "ipython3",
   "version": "3.7.0"
  }
 },
 "nbformat": 4,
 "nbformat_minor": 2
}
