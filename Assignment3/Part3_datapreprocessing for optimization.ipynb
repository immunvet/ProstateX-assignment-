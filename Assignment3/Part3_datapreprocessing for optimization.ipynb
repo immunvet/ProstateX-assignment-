{
 "cells": [
  {
   "cell_type": "code",
   "execution_count": 1,
   "metadata": {},
   "outputs": [],
   "source": [
    "import sys\n",
    "import SimpleITK as sitk\n",
    "import matplotlib.pyplot as plt\n",
    "from matplotlib.gridspec import GridSpec\n",
    "%matplotlib inline \n",
    "import numpy as np\n",
    "import os\n",
    "import fnmatch\n",
    "import shutil\n",
    "from ipywidgets import interact, fixed\n",
    "import pandas as pd\n",
    "import warnings\n",
    "from skimage import exposure\n",
    "from skimage import data\n",
    "from skimage.transform import rotate\n",
    "import _pickle as cPickle\n",
    "import random\n",
    "from sklearn.model_selection import train_test_split #GREAT for model selection!!!!!!!!\n",
    "\n",
    "def myshow(image_arr,slice_n):\n",
    "    plt.imshow(image_arr[slice_n,:,:],cmap='gray')\n",
    "    plt.show()"
   ]
  },
  {
   "cell_type": "code",
   "execution_count": 2,
   "metadata": {},
   "outputs": [],
   "source": [
    "#reading corresponding dataframes with arrays \n",
    "\n",
    "t2_df=pd.read_pickle('./t2_augmented.pkl')\n",
    "adc_df=pd.read_pickle('./adc_augmented.pkl')\n",
    "bval_df=pd.read_pickle('./bval_augmented.pkl')\n",
    "ktrans_df=pd.read_pickle('./ktrans_augmented.pkl')"
   ]
  },
  {
   "cell_type": "code",
   "execution_count": 3,
   "metadata": {},
   "outputs": [
    {
     "name": "stderr",
     "output_type": "stream",
     "text": [
      "C:\\Users\\andrii\\Anaconda3\\envs\\tf\\lib\\site-packages\\ipykernel_launcher.py:7: RuntimeWarning: invalid value encountered in true_divide\n",
      "  import sys\n"
     ]
    }
   ],
   "source": [
    "#function to get zero-mean unit variance \n",
    "\n",
    "def get_optimized(data):\n",
    "    \n",
    "    for i in range(len(data)):\n",
    "        array = data.loc[i, 'patches']\n",
    "        optimized = (array - array.mean(axis=0)) / array.std(axis=0)\n",
    "        data.at[i, 'patches']=optimized\n",
    "    return data\n",
    "\n",
    "\n",
    "t2_o = get_optimized(t2_df)    \n",
    "adc_o = get_optimized(adc_df)\n",
    "bval_o = get_optimized(bval_df)\n",
    "ktrans_o = get_optimized(ktrans_df)\n"
   ]
  },
  {
   "cell_type": "markdown",
   "metadata": {},
   "source": [
    "### Once we have all data optimized it is time to get all our images to arrays\n",
    "\n"
   ]
  },
  {
   "cell_type": "code",
   "execution_count": 4,
   "metadata": {},
   "outputs": [
    {
     "data": {
      "text/plain": [
       "<matplotlib.axes._subplots.AxesSubplot at 0x21cb1cb5a90>"
      ]
     },
     "execution_count": 4,
     "metadata": {},
     "output_type": "execute_result"
    },
    {
     "data": {
      "image/png": "[encoded data removed]",
      "text/plain": [
       "<Figure size 432x288 with 2 Axes>"
      ]
     },
     "metadata": {
      "needs_background": "light"
     },
     "output_type": "display_data"
    }
   ],
   "source": [
    "#before getting our arrays, we should divide them into train and test dataframes\n",
    "\n",
    "train, test = train_test_split(t2_o, test_size=0.2) #we`ll have 80% for model training and 20% of samples for model val\n",
    "\n",
    "#in ordder to get training/testing datasets let`s check our distribution \n",
    "plt.figure(1)\n",
    "\n",
    "plt.subplot(2,1,1)\n",
    "train.ClinSig.value_counts().plot(kind='bar', title='Train Data ClinSig Distribution')\n",
    "\n",
    "plt.subplot(2,1,2)\n",
    "test.ClinSig.value_counts().plot(kind='bar', title='Test')\n",
    "\n",
    "#we have adequate distribution among clinical outcome "
   ]
  },
  {
   "cell_type": "code",
   "execution_count": 5,
   "metadata": {},
   "outputs": [],
   "source": [
    "#Get array of images from column\n",
    "\n",
    "def get_arrays(data, column=['patches', 'ClinSig']):\n",
    "    \n",
    "    x= np.array([i for i in data[column[0]]]) #array of images\n",
    "    y=np.array([i for i in data[column[1]]])#array for labels\n",
    "    \n",
    "    return x,y \n",
    "\n",
    "\n",
    "\n",
    "x_train, y_train = get_arrays(train)\n",
    "x_test, y_test = get_arrays(test)\n",
    "\n"
   ]
  },
  {
   "cell_type": "code",
   "execution_count": 6,
   "metadata": {},
   "outputs": [],
   "source": [
    "#once we get adequately balanced datasets we can right them top the disk fopr further analysis\n",
    "\n",
    "\n",
    "\n",
    "\n",
    "t2_o.to_pickle('./t2_optimized.pkl')\n",
    "adc_o.to_pickle('./adc_optimized.pkl')\n",
    "bval_o.to_pickle('./bval_optimized.pkl')\n",
    "ktrans_o.to_pickle('./ktrans_optimized.pkl')"
   ]
  }
 ],
 "metadata": {
  "kernelspec": {
   "display_name": "Python 3",
   "language": "python",
   "name": "python3"
  },
  "language_info": {
   "codemirror_mode": {
    "name": "ipython",
    "version": 3
   },
   "file_extension": ".py",
   "mimetype": "text/x-python",
   "name": "python",
   "nbconvert_exporter": "python",
   "pygments_lexer": "ipython3",
   "version": "3.6.7"
  }
 },
 "nbformat": 4,
 "nbformat_minor": 2
}
