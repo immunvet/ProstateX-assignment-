{
 "cells": [
  {
   "cell_type": "code",
   "execution_count": 1,
   "metadata": {},
   "outputs": [],
   "source": [
    "import sys\n",
    "import SimpleITK as sitk\n",
    "import matplotlib.pyplot as plt\n",
    "from matplotlib.gridspec import GridSpec\n",
    "%matplotlib inline \n",
    "import numpy as np\n",
    "import os\n",
    "import fnmatch\n",
    "import shutil\n",
    "from ipywidgets import interact, fixed\n",
    "import pandas as pd\n",
    "import warnings\n",
    "from skimage import exposure\n",
    "from skimage import data\n",
    "from skimage.transform import rotate\n",
    "import _pickle as cPickle\n",
    "import random\n",
    "\n",
    "\n",
    "def myshow(image_arr,slice_n):\n",
    "    plt.imshow(image_arr[slice_n,:,:],cmap='gray')\n",
    "    plt.show()"
   ]
  },
  {
   "cell_type": "code",
   "execution_count": 2,
   "metadata": {},
   "outputs": [],
   "source": [
    "#Read Pickle files\n",
    "\n",
    "t2_df = pd.read_pickle('./t2_pickle')\n",
    "adc_df = pd.read_pickle('./adc_pickle')\n",
    "bval_df = pd.read_pickle('./bval_pickle')\n",
    "ktrans_df = pd.read_pickle('./ktrans_pickle')\n",
    "\n"
   ]
  },
  {
   "cell_type": "code",
   "execution_count": 3,
   "metadata": {},
   "outputs": [],
   "source": [
    "\n",
    "t2_df.name = 't2 modality'\n",
    "adc_df.name = 'adc modality'\n",
    "bval_df.name = 'bval modality'\n",
    "ktrans_df.name = 'ktrans modality'"
   ]
  },
  {
   "cell_type": "markdown",
   "metadata": {},
   "source": [
    "### Soft EDA before augmentation "
   ]
  },
  {
   "cell_type": "code",
   "execution_count": 4,
   "metadata": {},
   "outputs": [
    {
     "name": "stdout",
     "output_type": "stream",
     "text": [
      "Cancer or Not for t2 modality\n",
      "\n",
      "False    266\n",
      "True      81\n",
      "Name: ClinSig, dtype: int64 \n",
      "\n",
      "\n",
      "\n",
      "Cancer or Not for adc modality\n",
      "\n",
      "False    247\n",
      "True      68\n",
      "Name: ClinSig, dtype: int64 \n",
      "\n",
      "\n",
      "\n",
      "Cancer or Not for bval modality\n",
      "\n",
      "False    247\n",
      "True      68\n",
      "Name: ClinSig, dtype: int64 \n",
      "\n",
      "\n",
      "\n",
      "Cancer or Not for ktrans modality\n",
      "\n",
      "False    253\n",
      "True      73\n",
      "Name: ClinSig, dtype: int64 \n",
      "\n",
      "\n",
      "\n"
     ]
    }
   ],
   "source": [
    "#Starting Rotations \n",
    "#we have 81 Cancer Cases for t2 Modality \n",
    "#68 for adc and 68 for bval \n",
    "#and 73 for the ktrans modality \n",
    "\n",
    "def describe_df(data, column, what_describe = ''):\n",
    "    \n",
    "    print('{} for {}\\n'.format(what_describe, data.name))\n",
    "    print(data.loc[:,column].value_counts(), '\\n\\n\\n')\n",
    "    \n",
    "\n",
    "frames = [t2_df, adc_df, bval_df, ktrans_df]\n",
    "\n",
    "\n",
    "#describe biopsy findings \n",
    "\n",
    "for i in frames:\n",
    "    describe_df(i, 'ClinSig', 'Cancer or Not')"
   ]
  },
  {
   "cell_type": "markdown",
   "metadata": {},
   "source": [
    "### Data Augmentation by rotation (45, 90, 180, 270) degrees"
   ]
  },
  {
   "cell_type": "code",
   "execution_count": 5,
   "metadata": {},
   "outputs": [],
   "source": [
    "#we need to rotate images with cancer biopsy findings to balance our data and to reduce overfitting \n",
    "\n",
    "def rotate_cancers(data,rotate_degree,columns = ['ClinSig', 'patches']):\n",
    "    \n",
    "    new_dict ={}\n",
    "    #new_dict['patches'] = np.ndarray([])\n",
    "    \n",
    "    for i in range(len(data.patches)):\n",
    "       \n",
    "        try:\n",
    "            if data.loc[i, 'ClinSig']==True:\n",
    "                \n",
    "                image = data.loc[i,'patches']\n",
    "                 \n",
    "                new_dict[i]=rotate(image , rotate_degree)\n",
    "                \n",
    "            else:\n",
    "                \n",
    "                continue \n",
    "        except:\n",
    "            KeyError\n",
    "    return new_dict\n",
    "\n",
    "\n",
    "\n",
    "#applying rotate_cancers function \n",
    "\n",
    "rotate_45_t2 = rotate_cancers(t2_df, 45)\n",
    "rotate_90_t2 = rotate_cancers(t2_df, 90)\n",
    "rotate_180_t2 = rotate_cancers(t2_df, 180)\n",
    "rotate_270_t2 = rotate_cancers(t2_df, 270)\n",
    "\n",
    "rotate_45_adc = rotate_cancers(adc_df, 45)\n",
    "rotate_90_adc = rotate_cancers(adc_df, 90)\n",
    "rotate_180_adc = rotate_cancers(adc_df, 180)\n",
    "rotate_270_adc = rotate_cancers(adc_df, 270)\n",
    "\n",
    "rotate_45_bval = rotate_cancers(bval_df, 45)\n",
    "rotate_90_bval = rotate_cancers(bval_df, 90)\n",
    "rotate_180_bval = rotate_cancers(bval_df, 180)\n",
    "rotate_270_bval = rotate_cancers(bval_df, 270)\n",
    "\n",
    "rotate_45_ktrans = rotate_cancers(ktrans_df, 45)\n",
    "rotate_90_ktrans = rotate_cancers(ktrans_df, 90)\n",
    "rotate_180_ktrans = rotate_cancers(ktrans_df, 180)\n",
    "rotate_270_ktrans = rotate_cancers(ktrans_df, 270)"
   ]
  },
  {
   "cell_type": "code",
   "execution_count": 6,
   "metadata": {},
   "outputs": [],
   "source": [
    "#applying rotate_cancers function \n",
    "\n",
    "rotate_45_t2 = rotate_cancers(t2_df, 45)\n",
    "rotate_90_t2 = rotate_cancers(t2_df, 90)\n",
    "rotate_180_t2 = rotate_cancers(t2_df, 180)\n",
    "rotate_270_t2 = rotate_cancers(t2_df, 270)\n",
    "\n",
    "rotate_45_adc = rotate_cancers(adc_df, 45)\n",
    "rotate_90_adc = rotate_cancers(adc_df, 90)\n",
    "rotate_180_adc = rotate_cancers(adc_df, 180)\n",
    "rotate_270_adc = rotate_cancers(adc_df, 270)\n",
    "\n",
    "rotate_45_bval = rotate_cancers(bval_df, 45)\n",
    "rotate_90_bval = rotate_cancers(bval_df, 90)\n",
    "rotate_180_bval = rotate_cancers(bval_df, 180)\n",
    "rotate_270_bval = rotate_cancers(bval_df, 270)\n",
    "\n",
    "rotate_45_ktrans = rotate_cancers(ktrans_df, 45)\n",
    "rotate_90_ktrans = rotate_cancers(ktrans_df, 90)\n",
    "rotate_180_ktrans = rotate_cancers(ktrans_df, 180)\n",
    "rotate_270_ktrans = rotate_cancers(ktrans_df, 270)"
   ]
  },
  {
   "cell_type": "code",
   "execution_count": 7,
   "metadata": {},
   "outputs": [],
   "source": [
    "#function which aimed to apply all of rotated images\n",
    "def add_rotate(df, dict_rotate, column_name):\n",
    "    df[column_name] = ''\n",
    "    for key in dict_rotate:\n",
    "        if df.index[key]==key:\n",
    "            df.at[key, column_name]=dict_rotate[key]\n",
    "            \n",
    "    print('{} Done!'.format(df.name))\n"
   ]
  },
  {
   "cell_type": "code",
   "execution_count": 8,
   "metadata": {},
   "outputs": [
    {
     "name": "stdout",
     "output_type": "stream",
     "text": [
      "t2 modality Done!\n",
      "t2 modality Done!\n",
      "t2 modality Done!\n",
      "t2 modality Done!\n",
      "adc modality Done!\n",
      "adc modality Done!\n",
      "adc modality Done!\n",
      "adc modality Done!\n",
      "bval modality Done!\n",
      "bval modality Done!\n",
      "bval modality Done!\n",
      "bval modality Done!\n",
      "ktrans modality Done!\n",
      "ktrans modality Done!\n",
      "ktrans modality Done!\n",
      "ktrans modality Done!\n"
     ]
    }
   ],
   "source": [
    "names = ['rotate_45', 'rotate_90', 'rotate_180', 'rotate_270']\n",
    "\n",
    "add_rotate(t2_df, rotate_45_t2, names[0])\n",
    "add_rotate(t2_df, rotate_90_t2, names[1])\n",
    "add_rotate(t2_df, rotate_180_t2, names[2])\n",
    "add_rotate(t2_df, rotate_270_t2, names[3])\n",
    "\n",
    "add_rotate(adc_df, rotate_45_adc, names[0])\n",
    "add_rotate(adc_df, rotate_90_adc, names[1])\n",
    "add_rotate(adc_df, rotate_180_adc, names[2])\n",
    "add_rotate(adc_df, rotate_270_adc, names[3])\n",
    "\n",
    "add_rotate(bval_df, rotate_45_bval, names[0])\n",
    "add_rotate(bval_df, rotate_90_bval, names[1])\n",
    "add_rotate(bval_df, rotate_180_bval, names[2])\n",
    "add_rotate(bval_df, rotate_270_bval, names[3])\n",
    "\n",
    "add_rotate(ktrans_df, rotate_45_ktrans, names[0])\n",
    "add_rotate(ktrans_df, rotate_90_ktrans, names[1])\n",
    "add_rotate(ktrans_df, rotate_180_ktrans, names[2])\n",
    "add_rotate(ktrans_df, rotate_270_ktrans, names[3])"
   ]
  },
  {
   "cell_type": "code",
   "execution_count": 9,
   "metadata": {},
   "outputs": [],
   "source": [
    "def redo_dataframe(data, rotate_to_leave, new_names_of_colums=['ClinSig', 'patches']): \n",
    "    data=data[['ClinSig',rotate_to_leave]].loc[data.ClinSig==True]\n",
    "    data.columns=new_names_of_colums\n",
    "    return data"
   ]
  },
  {
   "cell_type": "code",
   "execution_count": 10,
   "metadata": {},
   "outputs": [],
   "source": [
    "columns=['rotate_45', 'rotate_90', 'rotate_180', 'rotate_270']\n",
    "\n",
    "\n",
    "#t2 dataframes to join\n",
    "r_45_df_t2=redo_dataframe(t2_df, columns[0])\n",
    "r_90_df_t2=redo_dataframe(t2_df, columns[1])\n",
    "r_180_df_t2=redo_dataframe(t2_df, columns[2])\n",
    "r_270_df_t2=redo_dataframe(t2_df, columns[3])\n",
    "t2_df=t2_df.loc[:,['ClinSig', 'patches']]\n",
    "\n",
    "#adc dataframes to join \n",
    "r_45_df_adc=redo_dataframe(adc_df, columns[0])\n",
    "r_90_df_adc=redo_dataframe(adc_df, columns[1])\n",
    "r_180_df_adc=redo_dataframe(adc_df, columns[2])\n",
    "r_270_df_adc=redo_dataframe(adc_df, columns[3])\n",
    "adc_df=adc_df.loc[:,['ClinSig', 'patches']]  \n",
    "\n",
    "#bval dataframes to join \n",
    "r_45_df_bval=redo_dataframe(bval_df, columns[0])\n",
    "r_90_df_bval=redo_dataframe(bval_df, columns[1])\n",
    "r_180_df_bval=redo_dataframe(bval_df, columns[2])\n",
    "r_270_df_bval=redo_dataframe(bval_df, columns[3])\n",
    "bval_df=bval_df.loc[:,['ClinSig', 'patches']]\n",
    "\n",
    "#ktrans dataframes to join \n",
    "r_45_df_ktrans=redo_dataframe(ktrans_df, columns[0])\n",
    "r_90_df_bval=redo_dataframe(ktrans_df, columns[1])\n",
    "r_180_df_bval=redo_dataframe(ktrans_df, columns[2])\n",
    "r_270_df_bval=redo_dataframe(ktrans_df, columns[3])\n",
    "ktrans_df=ktrans_df.loc[:,['ClinSig', 'patches']]  "
   ]
  },
  {
   "cell_type": "code",
   "execution_count": 11,
   "metadata": {},
   "outputs": [],
   "source": [
    "#t2 final dataframe\n",
    "t2_frames=[t2_df, r_45_df_t2, r_90_df_t2, r_180_df_t2, r_270_df_t2]\n",
    "t2_final=pd.concat(t2_frames).copy()\n",
    "t2_final.index=range(len(t2_final))\n",
    "\n",
    "#adc final dataframe\n",
    "adc_frames=[adc_df, r_45_df_adc, r_90_df_adc, r_180_df_adc, r_270_df_adc]\n",
    "adc_final=pd.concat(adc_frames).copy()\n",
    "adc_final.index=range(len(adc_final))\n",
    "\n",
    "#bval final dataframes\n",
    "bval_frames=[bval_df, r_45_df_bval, r_90_df_bval, r_180_df_bval, r_270_df_bval]\n",
    "bval_final=pd.concat(bval_frames).copy()\n",
    "bval_final.index=range(len(bval_final))\n",
    "\n",
    "#ktrans final dataframes\n",
    "ktrans_frames=[ktrans_df, r_45_df_ktrans, r_90_df_bval, r_180_df_bval, r_270_df_bval]\n",
    "ktrans_final=pd.concat(ktrans_frames).copy()\n",
    "ktrans_final.index=range(len(ktrans_final))\n",
    "\n"
   ]
  },
  {
   "cell_type": "code",
   "execution_count": 12,
   "metadata": {
    "scrolled": true
   },
   "outputs": [
    {
     "data": {
      "text/plain": [
       "<matplotlib.axes._subplots.AxesSubplot at 0x7f5e94472898>"
      ]
     },
     "execution_count": 12,
     "metadata": {},
     "output_type": "execute_result"
    },
    {
     "data": {
      "image/png": "[encoded data removed]",
      "text/plain": [
       "<Figure size 432x288 with 4 Axes>"
      ]
     },
     "metadata": {
      "needs_background": "light"
     },
     "output_type": "display_data"
    }
   ],
   "source": [
    "#Little EDA to check ratios between Cancer/No-cancer images after data augmentations \n",
    "plt.figure(1)\n",
    "\n",
    "plt.subplot(2,2,1)\n",
    "t2_final.ClinSig.value_counts().plot(kind='bar')\n",
    "\n",
    "plt.subplot(2,2,2)\n",
    "adc_final.ClinSig.value_counts().plot(kind='bar', ax=plt.gca())\n",
    "\n",
    "plt.subplot(2,2,3)\n",
    "bval_final.ClinSig.value_counts().plot(kind='bar', ax=plt.gca())\n",
    "\n",
    "plt.subplot(2,2,4)\n",
    "ktrans_final.ClinSig.value_counts().plot(kind='bar', ax=plt.gca())\n",
    "\n"
   ]
  },
  {
   "cell_type": "code",
   "execution_count": 13,
   "metadata": {},
   "outputs": [
    {
     "name": "stdout",
     "output_type": "stream",
     "text": [
      "Cancer or Not for t2\n",
      "\n",
      "True     405\n",
      "False    266\n",
      "Name: ClinSig, dtype: int64 \n",
      "\n",
      "\n",
      "\n",
      "Cancer or Not for adc\n",
      "\n",
      "True     340\n",
      "False    247\n",
      "Name: ClinSig, dtype: int64 \n",
      "\n",
      "\n",
      "\n",
      "Cancer or Not for bval\n",
      "\n",
      "True     355\n",
      "False    247\n",
      "Name: ClinSig, dtype: int64 \n",
      "\n",
      "\n",
      "\n",
      "Cancer or Not for ktrans\n",
      "\n",
      "True     365\n",
      "False    253\n",
      "Name: ClinSig, dtype: int64 \n",
      "\n",
      "\n",
      "\n"
     ]
    }
   ],
   "source": [
    "frames_final = [t2_final, adc_final, bval_final, ktrans_final]\n",
    "t2_final.name='t2'\n",
    "adc_final.name='adc'\n",
    "bval_final.name='bval'\n",
    "ktrans_final.name='ktrans'\n",
    "\n",
    "#describe biopsy findings \n",
    "\n",
    "for i in frames_final:\n",
    "    describe_df(i, 'ClinSig', 'Cancer or Not')"
   ]
  },
  {
   "cell_type": "code",
   "execution_count": 14,
   "metadata": {},
   "outputs": [],
   "source": [
    "'''\n",
    "As we see from the above visualizations, there is imbalance in the contrary way right now\n",
    "We can add needed number of rotated for 45 degrees noncancers samples\n",
    "It is better to add them as it will be a lot of zero values around picture in 45 degrees rotated image among cancer samples\n",
    "And these zero values could be treated as a feature by our model, that is why I decided to add rotated for 45 degrees non-cancer images\n",
    "'''\n",
    "\n",
    "def rotate_nocancers(data, degree=45, sam=100):\n",
    "    \n",
    "    dict_rotated = {}\n",
    "     \n",
    "    a=random.sample(list(data.loc[data.ClinSig==False].index), sam) #sam=number of needed samples; first part are indexes for random choice among them\n",
    "    \n",
    "    for i in a:\n",
    "        image=data.loc[i,'patches']\n",
    "        image_rotated=rotate(image, degree)\n",
    "        dict_rotated[i]=image_rotated\n",
    "    \n",
    "    df=pd.DataFrame(pd.Series(dict_rotated))\n",
    "    df['ClinSig']=False\n",
    "    df.columns=['patches', 'ClinSig']\n",
    "    df=df.loc[:, ['ClinSig', 'patches']]\n",
    "    return df\n",
    "\n",
    "#applying and getting dataframes\n",
    "t2_noc=rotate_nocancers(t2_final, sam=81)\n",
    "adc_noc=rotate_nocancers(adc_final, sam=68)\n",
    "bval_noc=rotate_nocancers(bval_final, sam=68)\n",
    "ktrans_noc=rotate_nocancers(ktrans_final, sam=73)\n",
    "\n",
    "#adding received dataframes to the existing final data_frames\n",
    "#t2\n",
    "t2_frames=[t2_final, t2_noc]\n",
    "t2_f=pd.concat(t2_frames).copy()\n",
    "t2_f.index=range(len(t2_f))\n",
    "#adc\n",
    "adc_frames=[adc_final, adc_noc]\n",
    "adc_f=pd.concat(adc_frames).copy()\n",
    "adc_f.index=range(len(adc_f))\n",
    "#bval\n",
    "bval_frames=[bval_final, bval_noc]\n",
    "bval_f=pd.concat(bval_frames).copy()\n",
    "bval_f.index=range(len(bval_f))\n",
    "#ktrans\n",
    "ktrans_frames=[ktrans_final, ktrans_noc]\n",
    "ktrans_f=pd.concat(ktrans_frames).copy()\n",
    "ktrans_f.index=range(len(ktrans_f))"
   ]
  },
  {
   "cell_type": "code",
   "execution_count": 36,
   "metadata": {},
   "outputs": [
    {
     "data": {
      "text/plain": [
       "<matplotlib.axes._subplots.AxesSubplot at 0x7f5e93d76c50>"
      ]
     },
     "execution_count": 36,
     "metadata": {},
     "output_type": "execute_result"
    },
    {
     "data": {
      "image/png": "[encoded data removed]",
      "text/plain": [
       "<Figure size 432x288 with 4 Axes>"
      ]
     },
     "metadata": {
      "needs_background": "light"
     },
     "output_type": "display_data"
    }
   ],
   "source": [
    "#Figures after additional augmentation \n",
    "\n",
    "plt.figure(1)\n",
    "\n",
    "plt.subplot(2,2,1)\n",
    "t2_f.ClinSig.value_counts().plot(kind='bar')\n",
    "\n",
    "plt.subplot(2,2,2)\n",
    "adc_f.ClinSig.value_counts().plot(kind='bar', ax=plt.gca())\n",
    "\n",
    "plt.subplot(2,2,3)\n",
    "bval_f.ClinSig.value_counts().plot(kind='bar', ax=plt.gca())\n",
    "\n",
    "plt.subplot(2,2,4)\n",
    "ktrans_f.ClinSig.value_counts().plot(kind='bar', ax=plt.gca())"
   ]
  },
  {
   "cell_type": "code",
   "execution_count": 38,
   "metadata": {},
   "outputs": [
    {
     "name": "stdout",
     "output_type": "stream",
     "text": [
      "Cancer or Not for t2\n",
      "\n",
      "True     405\n",
      "False    347\n",
      "Name: ClinSig, dtype: int64 \n",
      "\n",
      "\n",
      "\n",
      "Cancer or Not for adc\n",
      "\n",
      "True     340\n",
      "False    315\n",
      "Name: ClinSig, dtype: int64 \n",
      "\n",
      "\n",
      "\n",
      "Cancer or Not for bval\n",
      "\n",
      "True     355\n",
      "False    315\n",
      "Name: ClinSig, dtype: int64 \n",
      "\n",
      "\n",
      "\n",
      "Cancer or Not for ktrans\n",
      "\n",
      "True     365\n",
      "False    326\n",
      "Name: ClinSig, dtype: int64 \n",
      "\n",
      "\n",
      "\n"
     ]
    }
   ],
   "source": [
    "frames_final = [t2_f, adc_f, bval_f, ktrans_f]\n",
    "t2_f.name='t2'\n",
    "adc_f.name='adc'\n",
    "bval_f.name='bval'\n",
    "ktrans_f.name='ktrans'\n",
    "\n",
    "#describe biopsy findings \n",
    "\n",
    "for i in frames_final:\n",
    "    describe_df(i, 'ClinSig', 'Cancer or Not')"
   ]
  },
  {
   "cell_type": "code",
   "execution_count": null,
   "metadata": {},
   "outputs": [],
   "source": [
    "#writing files to pickle on disk\n",
    "\n",
    "\n",
    "t2_final.to_pickle('./t2_augmented.pkl')\n",
    "adc_final.to_pickle('./adc_augmented.pkl')\n",
    "bval_final.to_pickle('./bval_augmented.pkl')\n",
    "ktrans_final.to_pickle('./ktrans_augmented.pkl')"
   ]
  }
 ],
 "metadata": {
  "kernelspec": {
   "display_name": "Python 3",
   "language": "python",
   "name": "python3"
  },
  "language_info": {
   "codemirror_mode": {
    "name": "ipython",
    "version": 3
   },
   "file_extension": ".py",
   "mimetype": "text/x-python",
   "name": "python",
   "nbconvert_exporter": "python",
   "pygments_lexer": "ipython3",
   "version": "3.7.0"
  }
 },
 "nbformat": 4,
 "nbformat_minor": 2
}
