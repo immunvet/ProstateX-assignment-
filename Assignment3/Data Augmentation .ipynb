{
 "cells": [
  {
   "cell_type": "code",
   "execution_count": 1,
   "metadata": {},
   "outputs": [],
   "source": [
    "import sys\n",
    "import SimpleITK as sitk\n",
    "import matplotlib.pyplot as plt\n",
    "from matplotlib.gridspec import GridSpec\n",
    "%matplotlib inline \n",
    "import numpy as np\n",
    "import os\n",
    "import fnmatch\n",
    "import shutil\n",
    "from ipywidgets import interact, fixed\n",
    "import pandas as pd\n",
    "import warnings\n",
    "from skimage import exposure\n",
    "import _pickle as cPickle\n",
    "\n",
    "def myshow(image_arr,slice_n):\n",
    "    plt.imshow(image_arr[slice_n,:,:],cmap='gray')\n",
    "    plt.show()"
   ]
  },
  {
   "cell_type": "code",
   "execution_count": 26,
   "metadata": {},
   "outputs": [],
   "source": [
    "'''\n",
    "Starting Data Augmentation \n",
    "\n",
    "We know from the EDA that ~250 images from each modalities had shown no cancer after biopsy\n",
    "\n",
    "We have ~50 images in each modalities that had shown cancer after biopsy \n",
    "\n",
    "So we need to augment these\n",
    "'''\n",
    "\n",
    "t2_df = pd.read_csv('./t2_df.csv')\n",
    "adc_df = pd.read_csv('./adc_df.csv')\n",
    "bval_df = pd.read_csv('./adc_df.csv')\n",
    "ktrans_df = pd.read_csv('./ktrans_df.csv')\n",
    "\n"
   ]
  },
  {
   "cell_type": "code",
   "execution_count": 28,
   "metadata": {
    "scrolled": true
   },
   "outputs": [],
   "source": [
    "#reading arrays \n",
    "t2_arr = sitk.GetArrayFromImage(sitk.ReadImage('./t2_seq.nii.gz'))\n",
    "adc_arr = sitk.GetArrayFromImage(sitk.ReadImage('./adc_seq.nii.gz'))\n",
    "bval_arr = sitk.GetArrayFromImage(sitk.ReadImage('./bval_seq.nii.gz'))\n",
    "ktrans_arr = sitk.GetArrayFromImage(sitk.ReadImage('./ktrans_seq.nii.gz'))\n",
    "\n",
    "#function to save the arrays into dataframes\n",
    "def loop_at_patch(data, array): \n",
    "    for i in range(len(data)):\n",
    "        data.at[i, 'patches'] = array[i]\n",
    "       \n",
    "\n",
    "#applying function\n",
    "\n",
    "loop_at_patch(t2_df, t2_arr)\n",
    "loop_at_patch(adc_df, adc_arr)\n",
    "loop_at_patch(bval_df, bval_arr)\n",
    "loop_at_patch(ktrans_df, ktrans_arr)"
   ]
  },
  {
   "cell_type": "code",
   "execution_count": 33,
   "metadata": {},
   "outputs": [],
   "source": [
    "#leave only significant columns\n",
    "\n",
    "def leave_sig(data,columns=['ClinSig', 'patches']):\n",
    "    data=data.loc[:, columns]\n",
    "    return data\n",
    "\n",
    "t2_changed=leave_sig(t2_df)\n",
    "adc_changed=leave_sig(adc_df)\n",
    "bval_changed=leave_sig(bval_df)\n",
    "ktrans_changed=leave_sig(ktrans_df)\n",
    "\n",
    "\n"
   ]
  },
  {
   "cell_type": "code",
   "execution_count": 38,
   "metadata": {},
   "outputs": [],
   "source": [
    "#write results to pickle \n",
    "def write_to_pickle(data, new_names):\n",
    "    #function to save dataframe with numpy array\n",
    "    data.to_pickle('./'+new_names)\n",
    "\n",
    "    \n",
    "write_to_pickle(t2_changed, 't2_pickle')\n",
    "write_to_pickle(adc_changed, 'adc_pickle')\n",
    "write_to_pickle(bval_changed, 'bval_pickle')\n",
    "write_to_pickle(ktrans_changed, 'ktrans_pickle')"
   ]
  },
  {
   "cell_type": "code",
   "execution_count": 39,
   "metadata": {},
   "outputs": [],
   "source": [
    "t2_df = pd.read_pickle('./t2_pickle')\n",
    "adc_df = pd.read_pickle('./adc_pickle')\n",
    "bval_df = pd.read_pickle('./bval_pickle')\n",
    "ktrans_df = pd.read_pickle('./ktrans_pickle')"
   ]
  },
  {
   "cell_type": "code",
   "execution_count": 60,
   "metadata": {},
   "outputs": [
    {
     "data": {
      "text/plain": [
       "<matplotlib.axes._subplots.AxesSubplot at 0x7f78cc6b1dd8>"
      ]
     },
     "execution_count": 60,
     "metadata": {},
     "output_type": "execute_result"
    },
    {
     "data": {
      "image/png": "[encoded data removed]",
      "text/plain": [
       "<Figure size 432x288 with 1 Axes>"
      ]
     },
     "metadata": {
      "needs_background": "light"
     },
     "output_type": "display_data"
    }
   ],
   "source": [
    "ktrans_df['ClinSig'].value_counts().plot(kind='bar')"
   ]
  },
  {
   "cell_type": "code",
   "execution_count": null,
   "metadata": {},
   "outputs": [],
   "source": []
  },
  {
   "cell_type": "code",
   "execution_count": null,
   "metadata": {},
   "outputs": [],
   "source": []
  },
  {
   "cell_type": "code",
   "execution_count": null,
   "metadata": {},
   "outputs": [],
   "source": []
  },
  {
   "cell_type": "code",
   "execution_count": null,
   "metadata": {},
   "outputs": [],
   "source": []
  },
  {
   "cell_type": "code",
   "execution_count": null,
   "metadata": {
    "scrolled": true
   },
   "outputs": [],
   "source": []
  }
 ],
 "metadata": {
  "kernelspec": {
   "display_name": "Python 3",
   "language": "python",
   "name": "python3"
  },
  "language_info": {
   "codemirror_mode": {
    "name": "ipython",
    "version": 3
   },
   "file_extension": ".py",
   "mimetype": "text/x-python",
   "name": "python",
   "nbconvert_exporter": "python",
   "pygments_lexer": "ipython3",
   "version": "3.6.7"
  }
 },
 "nbformat": 4,
 "nbformat_minor": 2
}
