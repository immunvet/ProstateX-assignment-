{
 "cells": [
  {
   "cell_type": "code",
   "execution_count": 1,
   "metadata": {},
   "outputs": [],
   "source": [
    "#ProstateX final \n",
    "\n",
    "#Andrii Trokoz\n",
    "\n",
    "\n",
    "\n",
    "'''\n",
    "Importing all the necessary libraries and frameworks in order to start image processing \n",
    "'''\n",
    "import sys\n",
    "import SimpleITK as sitk\n",
    "import matplotlib.pyplot as plt\n",
    "%matplotlib inline \n",
    "import numpy as np\n",
    "import os\n",
    "import fnmatch\n",
    "import shutil\n",
    "from ipywidgets import interact, fixed\n",
    "import pandas as pd\n",
    "import warnings\n",
    "\n",
    "\n",
    "def myshow(image_arr,slice_n):\n",
    "    plt.imshow(image_arr[slice_n,:,:],cmap='gray')\n",
    "    plt.show()"
   ]
  },
  {
   "cell_type": "code",
   "execution_count": 2,
   "metadata": {},
   "outputs": [],
   "source": [
    "#reading .csv in order to get all of necessary coordinates for cropping \n",
    "data_image = pd.read_csv('C://Image Processing/ProstateX-TestLesionInformation/ProstateX-TrainingLesionInformationv2/ProstateX-Images-Train.csv')\n",
    "\n"
   ]
  },
  {
   "cell_type": "code",
   "execution_count": 3,
   "metadata": {},
   "outputs": [],
   "source": [
    "#Extracting the names of each image for the further processing from Data Frame, we need this to match names of files with pos coordinates\n",
    "data_image.loc[:,'match'] = '' #creates new column where we`ll put the matching names \n",
    "\n",
    "for i in range(len(data_image)):  #names for further matching with images` names\n",
    "    data_image.loc[i,'match'] = data_image.loc[i,'DCMSerDescr'] + '_' + data_image.loc[i,'ProxID'].replace('-','_') + '.nii.gz'\n",
    "\n"
   ]
  },
  {
   "cell_type": "code",
   "execution_count": 4,
   "metadata": {},
   "outputs": [],
   "source": [
    "'''\n",
    "Creating separate DataFrames for each of modalites. \n",
    "\n",
    "It is going to be: t2_df, adc_df, bval_df and ktrans_df\n",
    "\n",
    "'''\n",
    "\n",
    "\n",
    "\n",
    "#creating lists for further processing, renaming and removing the duplicates in the directory  \n",
    "t2_dir=os.listdir('C://Image Processing/ProstateX/resampled/')\n",
    "t2_match = [i for i in t2_dir if 't2' in i ]\n",
    "\n",
    "def make_match_list(directory, matching_value): \n",
    "    #generating a list of matching names\n",
    "    match=[i for i in directory if matching_value in i]\n",
    "    for i in range(len(match)): \n",
    "        if match[i].split('_')[-1][0] !='0':\n",
    "            match[i]=match[i][:-12] + '.nii.gz'\n",
    "    \n",
    "    match_list=[]\n",
    "    for i in match: \n",
    "        if i not in match_list:\n",
    "            match_list.append(i)\n",
    "            \n",
    "    return match_list\n",
    "\n",
    "#macth lists\n",
    "t2_list = make_match_list(t2_dir,'t2')\n",
    "\n",
    "adc_list = make_match_list(t2_dir,'ADC')\n",
    "\n",
    "bval_list = make_match_list(t2_dir, 'BVAL')\n",
    "\n",
    "\n",
    "\n",
    "#matching dataframes\n",
    "\n",
    "#Creating a DataFrame with names of files \n",
    "\n",
    "t2_df = data_image[data_image['match'].isin(t2_list)].copy() #use .copy() to overcome SettingWithCopyWarning issue\n",
    "t2_df.index = range(len(t2_df))\n",
    "\n",
    "adc_df = data_image[data_image['match'].isin(adc_list)].copy()\n",
    "adc_df.index = range(len(adc_df))\n",
    "\n",
    "bval_df = data_image[data_image['match'].isin(bval_list)].copy()\n",
    "bval_df.index = range(len(bval_df))"
   ]
  },
  {
   "cell_type": "code",
   "execution_count": 5,
   "metadata": {},
   "outputs": [],
   "source": [
    "#to match all of the files with pos coordinates, we have to assign names to all of our 'match' names\n",
    "#here we are defining a function to assign names to instances that have different DCMSerNum, but the same name \n",
    "#these names are the same as in our files` directory\n",
    "#function design specifically for this project, cause names of columns in the dataframes and indexing are only suitable for \n",
    "#ProstateX data\n",
    "def rename_missed_match(data):\n",
    "   #data=corresponding dataframe\n",
    "    try:\n",
    "        for i in range(len(data)):\n",
    "        \n",
    "            if data.loc[i,'match']==data.loc[i+1,'match'] and data.loc[i,'DCMSerNum'] != data.loc[i+1,'DCMSerNum']:\n",
    "            \n",
    "                if len(str(data.loc[i,'DCMSerNum'])) == 1:\n",
    "                    if len(str(data.loc[i+1,'DCMSerNum'])) != 2:\n",
    "                        data.loc[i,'match'] = data.loc[i,'match'].strip('.nii.gz')+'_s00'+str(data.loc[i,'DCMSerNum'])+'.nii.gz'\n",
    "                        data.loc[i+1,'match'] = data.loc[i+1,'match'].strip('.nii.gz')+'_s00'+str(data.loc[i+1,'DCMSerNum'])+'.nii.gz'\n",
    "                    else: \n",
    "                        data.loc[i,'match'] = data.loc[i,'match'].strip('.nii.gz')+'_s00'+str(data.loc[i,'DCMSerNum'])+'.nii.gz'\n",
    "                        data.loc[i+1,'match'] = data.loc[i+1,'match'].strip('.nii.gz')+'_s0'+str(data.loc[i+1,'DCMSerNum'])+'.nii.gz'\n",
    "            \n",
    "                elif len(str(data.loc[i,'DCMSerNum'])) == 2:\n",
    "                    if len(str(data.loc[i+1,'DCMSerNum'])) != 2:\n",
    "                        data.loc[i,'match'] = data.loc[i,'match'].strip('.nii.gz')+'_s0'+str(data.loc[i,'DCMSerNum'])+'.nii.gz'\n",
    "                        data.loc[i+1,'match'] = data.loc[i+1,'match'].strip('.nii.gz')+'_s00'+str(data.loc[i+1,'DCMSerNum'])+'.nii.gz'\n",
    "                    else:\n",
    "                        data.loc[i,'match'] = data.loc[i,'match'].strip('.nii.gz')+'_s0'+str(data.loc[i,'DCMSerNum'])+'.nii.gz'\n",
    "                        data.loc[i+1,'match'] = data.loc[i,'match'].strip('.nii.gz')+'_s0'+str(data.loc[i,'DCMSerNum'])+'.nii.gz'\n",
    "    except: KeyError\n",
    "\n",
    "\n",
    "rename_missed_match(t2_df)  #applying functions\n",
    "rename_missed_match(adc_df)\n",
    "rename_missed_match(bval_df)\n",
    "\n",
    "\n"
   ]
  },
  {
   "cell_type": "code",
   "execution_count": null,
   "metadata": {},
   "outputs": [],
   "source": [
    "matching_dict = {i: k for i in data_all['ProxID'] for k in directory if i.split('-')[-1] in k}\n",
    "\n",
    "matching_dict"
   ]
  },
  {
   "cell_type": "code",
   "execution_count": null,
   "metadata": {},
   "outputs": [],
   "source": [
    "#Making new column with physical coordinates of the findings \n",
    "#In order to do that, we should first read image, than get pos and finally transfer physical point to index\n",
    "\n",
    "#first of all we should match ProxID and read image \n",
    "\n",
    "#for reading image we have to undestand which image to read, get its path and match it with correct pos\n",
    "\n",
    "#find ProxID -- find filename -- match proxid with filename -- find pos -- read image -- transform image pos to index\n",
    "\n",
    "def phys_to_index_col(data, folder):\n",
    "    directory = os.listdir(folder)\n",
    "    for i in directory: \n",
    "        for k in data['ProxID']:\n",
    "            if k.split('-')[-1] in i: \n",
    "                pos=[float(i) for i in (data['pos'].loc[data['ProxID']==k][0]).split(' ')]\n",
    "                im = sitk.ReadImage(folder+i)\n",
    "                data['index'].loc[data['ProxID']==k]=im.TransformPhysicalPointToIndex(pos)\n",
    "\n"
   ]
  },
  {
   "cell_type": "code",
   "execution_count": null,
   "metadata": {},
   "outputs": [],
   "source": [
    "a=[float(i) for i in (data_all['pos'].loc[data['ProxID']=='ProstateX-0000'][0]).split(' ')]\n",
    "\n",
    "data_new['ProxID'][1]\n",
    "data_new.loc[data_new['ProxID']=='ProstateX-0002'].index[0]\n",
    "\n",
    "a"
   ]
  },
  {
   "cell_type": "code",
   "execution_count": null,
   "metadata": {},
   "outputs": [],
   "source": [
    "data_all['pos'].loc[data['ProxID']=='ProstateX-0191']\n",
    "directory"
   ]
  },
  {
   "cell_type": "code",
   "execution_count": null,
   "metadata": {},
   "outputs": [],
   "source": [
    "for i in directory:\n",
    "    for k in data_all['ProxID']:\n",
    "        if k.split('-')[-1] in i: \n",
    "            print(k)\n",
    "            pos=[float(i) for i in (data_all['pos'].loc[data_all['ProxID']==k][data_all.loc[data['ProxID']==k].index[0]]).split(' ')]\n",
    "            print(pos)\n"
   ]
  },
  {
   "cell_type": "code",
   "execution_count": null,
   "metadata": {},
   "outputs": [],
   "source": []
  },
  {
   "cell_type": "code",
   "execution_count": null,
   "metadata": {},
   "outputs": [],
   "source": []
  },
  {
   "cell_type": "code",
   "execution_count": null,
   "metadata": {},
   "outputs": [],
   "source": [
    "extract = sitk.ExtractImageFilter()\n",
    "extract.SetSize([64,64,0])\n",
    "extract.SetIndex([153-20, 166-32, 12])\n",
    "extracted = extract.Execute(im)\n",
    "\n",
    "extr_arr = sitk.GetArrayFromImage(extracted)\n",
    "plt.imshow(extr_arr,cmap='gray')"
   ]
  },
  {
   "cell_type": "code",
   "execution_count": null,
   "metadata": {},
   "outputs": [],
   "source": [
    "extract = sitk.ExtractImageFilter()\n",
    "extract.SetSize([64,64,0])\n",
    "extract.SetIndex([203-20, 168-32, 9])\n",
    "extracted = extract.Execute(im)\n",
    "\n",
    "extr_arr = sitk.GetArrayFromImage(extracted)\n",
    "plt.imshow(extr_arr,cmap='gray')\n",
    "\n"
   ]
  },
  {
   "cell_type": "code",
   "execution_count": null,
   "metadata": {},
   "outputs": [],
   "source": [
    "im = sitk.ReadImage('C://Image Processing/ProstateX/t2/t2_tse_tra_ProstateX_0002.nii')\n",
    "im_arr = sitk.GetArrayFromImage(im)\n",
    "im_sl_9 = im_arr[9,:,:]\n",
    "im_sl_9 = sitk.GetImageFromArray(im_sl_9)\n",
    "\n",
    "extract = sitk.ExtractImageFilter()\n",
    "extract.SetSize([32,32])\n",
    "extract.SetIndex([203-20, 168-32])\n",
    "extracted_image = extract.Execute(im_sl_9)\n",
    "\n",
    "\n",
    "extrcated_arr = sitk.GetArrayFromImage(extracted_image)\n",
    "\n",
    "plt.imshow(extrcated_arr, cmap = 'gray')"
   ]
  },
  {
   "cell_type": "code",
   "execution_count": null,
   "metadata": {},
   "outputs": [],
   "source": [
    "myshow(im_arr,9)"
   ]
  },
  {
   "cell_type": "code",
   "execution_count": null,
   "metadata": {
    "scrolled": true
   },
   "outputs": [],
   "source": [
    "pos = [-27.0102, 41.5467, -26.0469]\n",
    "ijk = im.TransformPhysicalPointToIndex(pos)\n",
    "\n",
    "print(ijk)"
   ]
  },
  {
   "cell_type": "code",
   "execution_count": null,
   "metadata": {},
   "outputs": [],
   "source": [
    "im = sitk.ReadImage('C://Image Processing/ProstateX/resampled/ep2d_diff_tra_DYNDIST_ADC_ProstateX_0000.nii')\n",
    "im_arr = sitk.GetArrayFromImage(im)\n",
    "\n",
    "im_sl_8 = im_arr[9,:,:]\n",
    "im_sl_8 = sitk.GetImageFromArray(im_sl_8)\n",
    "\n",
    "extract = sitk.ExtractImageFilter()\n",
    "extract.SetSize([36,36])\n",
    "extract.SetIndex([36, 72 ])\n",
    "extracted_image = extract.Execute(im_sl_8)\n",
    "\n",
    "\n",
    "extrcated_arr = sitk.GetArrayFromImage(extracted_image)\n",
    "\n",
    "plt.imshow(extrcated_arr, cmap = 'gray')"
   ]
  },
  {
   "cell_type": "code",
   "execution_count": null,
   "metadata": {},
   "outputs": [],
   "source": [
    "myshow(im_arr,9)"
   ]
  },
  {
   "cell_type": "code",
   "execution_count": null,
   "metadata": {},
   "outputs": [],
   "source": [
    "data_all.loc[data_all['ProxID']=='ProstateX-0002']"
   ]
  },
  {
   "cell_type": "code",
   "execution_count": null,
   "metadata": {},
   "outputs": [],
   "source": []
  },
  {
   "cell_type": "code",
   "execution_count": null,
   "metadata": {},
   "outputs": [],
   "source": []
  }
 ],
 "metadata": {
  "kernelspec": {
   "display_name": "Python 3",
   "language": "python",
   "name": "python3"
  },
  "language_info": {
   "codemirror_mode": {
    "name": "ipython",
    "version": 3
   },
   "file_extension": ".py",
   "mimetype": "text/x-python",
   "name": "python",
   "nbconvert_exporter": "python",
   "pygments_lexer": "ipython3",
   "version": "3.6.4"
  }
 },
 "nbformat": 4,
 "nbformat_minor": 2
}
