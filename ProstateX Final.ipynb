{
 "cells": [
  {
   "cell_type": "code",
   "execution_count": 1,
   "metadata": {},
   "outputs": [],
   "source": [
    "#ProstateX final \n",
    "\n",
    "#Andrii Trokoz\n",
    "\n",
    "\n",
    "\n",
    "'''\n",
    "Importing all the necessary libraries and frameworks in order to start image processing \n",
    "'''\n",
    "import sys\n",
    "import SimpleITK as sitk\n",
    "import matplotlib.pyplot as plt\n",
    "%matplotlib inline \n",
    "import numpy as np\n",
    "import os\n",
    "import fnmatch\n",
    "import shutil\n",
    "from ipywidgets import interact, fixed\n",
    "import pandas as pd\n",
    "import warnings\n",
    "\n",
    "\n",
    "def myshow(image_arr,slice_n):\n",
    "    plt.imshow(image_arr[slice_n,:,:],cmap='gray')\n",
    "    plt.show()"
   ]
  },
  {
   "cell_type": "code",
   "execution_count": 3,
   "metadata": {},
   "outputs": [],
   "source": [
    "#reading .csv in order to get all of necessary coordinates for cropping \n",
    "data_image = pd.read_csv('C://Image Processing/ProstateX-TestLesionInformation/ProstateX-TrainingLesionInformationv2/ProstateX-Images-Train.csv')\n",
    "\n"
   ]
  },
  {
   "cell_type": "code",
   "execution_count": 5,
   "metadata": {},
   "outputs": [
    {
     "data": {
      "text/html": [
       "<div>\n",
       "<style scoped>\n",
       "    .dataframe tbody tr th:only-of-type {\n",
       "        vertical-align: middle;\n",
       "    }\n",
       "\n",
       "    .dataframe tbody tr th {\n",
       "        vertical-align: top;\n",
       "    }\n",
       "\n",
       "    .dataframe thead th {\n",
       "        text-align: right;\n",
       "    }\n",
       "</style>\n",
       "<table border=\"1\" class=\"dataframe\">\n",
       "  <thead>\n",
       "    <tr style=\"text-align: right;\">\n",
       "      <th></th>\n",
       "      <th>match</th>\n",
       "      <th>Name</th>\n",
       "      <th>ProxID</th>\n",
       "    </tr>\n",
       "  </thead>\n",
       "  <tbody>\n",
       "    <tr>\n",
       "      <th>0</th>\n",
       "      <td>ep2d_diff_tra_DYNDIST_ADC_ProstateX_0000.nii.gz</td>\n",
       "      <td>ep2d_diff_tra_DYNDIST_ADC0</td>\n",
       "      <td>ProstateX-0000</td>\n",
       "    </tr>\n",
       "    <tr>\n",
       "      <th>1</th>\n",
       "      <td>ep2d_diff_tra_DYNDIST_ProstateX_0000.nii.gz</td>\n",
       "      <td>ep2d_diff_tra_DYNDIST0</td>\n",
       "      <td>ProstateX-0000</td>\n",
       "    </tr>\n",
       "    <tr>\n",
       "      <th>2</th>\n",
       "      <td>ep2d_diff_tra_DYNDIST_ProstateX_0000.nii.gz</td>\n",
       "      <td>ep2d_diff_tra_DYNDIST1</td>\n",
       "      <td>ProstateX-0000</td>\n",
       "    </tr>\n",
       "    <tr>\n",
       "      <th>3</th>\n",
       "      <td>ep2d_diff_tra_DYNDIST_ProstateX_0000.nii.gz</td>\n",
       "      <td>ep2d_diff_tra_DYNDIST2</td>\n",
       "      <td>ProstateX-0000</td>\n",
       "    </tr>\n",
       "    <tr>\n",
       "      <th>4</th>\n",
       "      <td>ep2d_diff_tra_DYNDISTCALC_BVAL_ProstateX_0000....</td>\n",
       "      <td>ep2d_diff_tra_DYNDISTCALC_BVAL0</td>\n",
       "      <td>ProstateX-0000</td>\n",
       "    </tr>\n",
       "  </tbody>\n",
       "</table>\n",
       "</div>"
      ],
      "text/plain": [
       "                                               match  \\\n",
       "0    ep2d_diff_tra_DYNDIST_ADC_ProstateX_0000.nii.gz   \n",
       "1        ep2d_diff_tra_DYNDIST_ProstateX_0000.nii.gz   \n",
       "2        ep2d_diff_tra_DYNDIST_ProstateX_0000.nii.gz   \n",
       "3        ep2d_diff_tra_DYNDIST_ProstateX_0000.nii.gz   \n",
       "4  ep2d_diff_tra_DYNDISTCALC_BVAL_ProstateX_0000....   \n",
       "\n",
       "                              Name          ProxID  \n",
       "0       ep2d_diff_tra_DYNDIST_ADC0  ProstateX-0000  \n",
       "1           ep2d_diff_tra_DYNDIST0  ProstateX-0000  \n",
       "2           ep2d_diff_tra_DYNDIST1  ProstateX-0000  \n",
       "3           ep2d_diff_tra_DYNDIST2  ProstateX-0000  \n",
       "4  ep2d_diff_tra_DYNDISTCALC_BVAL0  ProstateX-0000  "
      ]
     },
     "execution_count": 5,
     "metadata": {},
     "output_type": "execute_result"
    }
   ],
   "source": [
    "#Extracting the names of each image for the further processing from Data Frame, we need this to match names of files with pos coordinates\n",
    "data_image.loc[:,'match'] = '' #creates new column where we`ll put the matching names \n",
    "\n",
    "for i in range(len(data_image)):  #names for further matching with images` names\n",
    "    data_image.loc[i,'match'] = data_image.loc[i,'DCMSerDescr']+'_' + data_image.loc[i,'ProxID'].replace('-','_')+'.nii.gz'\n",
    "\n",
    "    \n",
    "    \n",
    "data_image.loc[:,('match','Name','ProxID')].head(5)"
   ]
  },
  {
   "cell_type": "code",
   "execution_count": 6,
   "metadata": {},
   "outputs": [],
   "source": [
    "'''\n",
    "Creating separate DataFrames for each of modalites. \n",
    "\n",
    "It is going to be: t2_df, adc_df, bval_df and ktrans_df\n",
    "\n",
    "'''\n",
    "\n",
    "\n",
    "\n",
    "#creating lists for further processing, renaming and removing the duplicates in the directory  \n",
    "t2_dir=os.listdir('C://Image Processing/ProstateX/resampled/')\n",
    "t2_match = [i for i in t2_dir if 't2' in i ]\n",
    "\n",
    "def make_match_list(directory, matching_value): \n",
    "    #generating a list of matching names\n",
    "    match=[i for i in directory if matching_value in i]\n",
    "    for i in range(len(match)): \n",
    "        if match[i].split('_')[-1][0] !='0':\n",
    "            match[i]=match[i][:-12] + '.nii.gz'\n",
    "    \n",
    "    match_list=[]\n",
    "    for i in match: \n",
    "        if i not in match_list:\n",
    "            match_list.append(i)\n",
    "            \n",
    "    return match_list\n",
    "\n",
    "#macth lists\n",
    "t2_list = make_match_list(t2_dir,'t2')\n",
    "\n",
    "adc_list = make_match_list(t2_dir,'ADC')\n",
    "\n",
    "bval_list = make_match_list(t2_dir, 'BVAL')\n",
    "\n",
    "\n",
    "\n",
    "#matching dataframes\n",
    "\n",
    "#Creating a DataFrame with names of files \n",
    "\n",
    "t2_df = data_image[data_image['match'].isin(t2_list)]\n",
    "t2_df.index = range(len(t2_df))\n",
    "\n",
    "adc_df = data_image[data_image['match'].isin(adc_list)]\n",
    "adc_df.index = range(len(adc_df))\n",
    "\n",
    "bval_df = data_image[data_image['match'].isin(bval_list)]\n",
    "bval_df.index = range(len(bval_df))"
   ]
  },
  {
   "cell_type": "code",
   "execution_count": 9,
   "metadata": {},
   "outputs": [
    {
     "name": "stderr",
     "output_type": "stream",
     "text": [
      "C:\\ProgramData\\Anaconda3\\lib\\site-packages\\pandas\\core\\indexing.py:537: SettingWithCopyWarning: \n",
      "A value is trying to be set on a copy of a slice from a DataFrame.\n",
      "Try using .loc[row_indexer,col_indexer] = value instead\n",
      "\n",
      "See the caveats in the documentation: http://pandas.pydata.org/pandas-docs/stable/indexing.html#indexing-view-versus-copy\n",
      "  self.obj[item] = s\n"
     ]
    }
   ],
   "source": [
    "#we have some \n",
    "t2_df.loc[:,('match', 'DCMSerNum')]\n",
    "\n",
    "try:\n",
    "    for i in range(len(t2_df)):\n",
    "        \n",
    "        if t2_df.loc[i,'match']==t2_df.loc[i+1,'match'] and t2_df.loc[i,'DCMSerNum'] != t2_df.loc[i+1,'DCMSerNum']:\n",
    "            \n",
    "            if len(str(t2_df.loc[i,'DCMSerNum'])) == 1:\n",
    "                while len(str(t2_df.loc[i+1,'DCMSerNum'])) != 2:\n",
    "                    t2_df.loc[i,'match'] = t2_df.loc[i,'match'].strip('.nii.gz')+'_s00'+str(t2_df.loc[i,'DCMSerNum'])+'.nii.gz'\n",
    "                    t2_df.loc[i+1,'match'] = t2_df.loc[i+1,'match'].strip('.nii.gz')+'_s00'+str(t2_df.loc[i+1,'DCMSerNum'])+'.nii.gz'\n",
    "                else: \n",
    "                    t2_df.loc[i+1,'match'] = t2_df.loc[i,'match'].strip('.nii.gz')+'_s0'+str(t2_df.loc[i,'DCMSerNum'])+'.nii.gz'\n",
    "            \n",
    "            elif len(str(t2_df.loc[i,'DCMSerNum'])) == 2:\n",
    "                while len(str(t2_df.loc[i+1,'DCMSerNum'])) != 2:\n",
    "                    t2_df.loc[i,'match'] = t2_df.loc[i,'match'].strip('.nii.gz')+'_s0'+str(t2_df.loc[i,'DCMSerNum'])+'.nii.gz'\n",
    "                    t2_df.loc[i+1,'match'] = t2_df.loc[i+1,'match'].strip('.nii.gz')+'_s00'+str(t2_df.loc[i+1,'DCMSerNum'])+'.nii.gz'\n",
    "                else:\n",
    "                    t2_df.loc[i+1,'match'] = t2_df.loc[i,'match'].strip('.nii.gz')+'_s0'+str(t2_df.loc[i,'DCMSerNum'])+'.nii.gz'\n",
    "except: KeyError\n",
    "\n"
   ]
  },
  {
   "cell_type": "code",
   "execution_count": null,
   "metadata": {},
   "outputs": [],
   "source": [
    "for i in range(len(t2_df)):\n",
    "    if t2_df.loc[i,'match']==t2_df.loc[i+1,'match'] and t2_df.loc[i,'DCMSerNum'] != t2_df.loc[i+1,'DCMSerNum']:\n",
    "        print(type(str(t2_df.loc[i,'DCMSerNum'])))\n"
   ]
  },
  {
   "cell_type": "code",
   "execution_count": 13,
   "metadata": {},
   "outputs": [
    {
     "data": {
      "text/html": [
       "<div>\n",
       "<style scoped>\n",
       "    .dataframe tbody tr th:only-of-type {\n",
       "        vertical-align: middle;\n",
       "    }\n",
       "\n",
       "    .dataframe tbody tr th {\n",
       "        vertical-align: top;\n",
       "    }\n",
       "\n",
       "    .dataframe thead th {\n",
       "        text-align: right;\n",
       "    }\n",
       "</style>\n",
       "<table border=\"1\" class=\"dataframe\">\n",
       "  <thead>\n",
       "    <tr style=\"text-align: right;\">\n",
       "      <th></th>\n",
       "      <th>ProxID</th>\n",
       "      <th>Name</th>\n",
       "      <th>fid</th>\n",
       "      <th>pos</th>\n",
       "      <th>WorldMatrix</th>\n",
       "      <th>ijk</th>\n",
       "      <th>TopLevel</th>\n",
       "      <th>SpacingBetweenSlices</th>\n",
       "      <th>VoxelSpacing</th>\n",
       "      <th>Dim</th>\n",
       "      <th>DCMSerDescr</th>\n",
       "      <th>DCMSerNum</th>\n",
       "      <th>match</th>\n",
       "    </tr>\n",
       "  </thead>\n",
       "  <tbody>\n",
       "    <tr>\n",
       "      <th>2</th>\n",
       "      <td>ProstateX-0001</td>\n",
       "      <td>t2_tse_tra0</td>\n",
       "      <td>1</td>\n",
       "      <td>-40.5367071921656 29.320722668457 -16.70766907...</td>\n",
       "      <td>0.5,1.02552e-010,-4.64581e-017,-119.205,-1.019...</td>\n",
       "      <td>157 186 10</td>\n",
       "      <td>1.0</td>\n",
       "      <td>3.0</td>\n",
       "      <td>0.5,0.5,3</td>\n",
       "      <td>384x384x19x1</td>\n",
       "      <td>t2_tse_tra</td>\n",
       "      <td>10</td>\n",
       "      <td>t2_tse_tra_ProstateX_0001_s0010.nii.gz</td>\n",
       "    </tr>\n",
       "    <tr>\n",
       "      <th>224</th>\n",
       "      <td>ProstateX-0123</td>\n",
       "      <td>t2_tse_tra0</td>\n",
       "      <td>1</td>\n",
       "      <td>20.8643 30.9437 29.9455</td>\n",
       "      <td>0.5,1.02552e-010,1.40962e-016,-83.3017,-1.0089...</td>\n",
       "      <td>208 227 7</td>\n",
       "      <td>NaN</td>\n",
       "      <td>3.0</td>\n",
       "      <td>0.5,0.5,3</td>\n",
       "      <td>384x384x21x1</td>\n",
       "      <td>t2_tse_tra</td>\n",
       "      <td>10</td>\n",
       "      <td>t2_tse_tra_ProstateX_0123_s0010.nii.gz</td>\n",
       "    </tr>\n",
       "    <tr>\n",
       "      <th>377</th>\n",
       "      <td>ProstateX-0186</td>\n",
       "      <td>t2_tse_tra0</td>\n",
       "      <td>2</td>\n",
       "      <td>11.8551 32.938 20.8921</td>\n",
       "      <td>0.5,1.02552e-010,1.83796e-017,-92.2174,-9.6119...</td>\n",
       "      <td>208 217 7</td>\n",
       "      <td>NaN</td>\n",
       "      <td>3.0</td>\n",
       "      <td>0.5,0.5,3</td>\n",
       "      <td>384x384x19x1</td>\n",
       "      <td>t2_tse_tra</td>\n",
       "      <td>10</td>\n",
       "      <td>t2_tse_tra_ProstateX_0186_s0010.nii.gz</td>\n",
       "    </tr>\n",
       "    <tr>\n",
       "      <th>378</th>\n",
       "      <td>ProstateX-0186</td>\n",
       "      <td>t2_tse_tra0</td>\n",
       "      <td>1</td>\n",
       "      <td>-0.209802 19.6911 22.6179</td>\n",
       "      <td>0.5,1.02552e-010,1.83796e-017,-92.2174,-9.6119...</td>\n",
       "      <td>184 191 6</td>\n",
       "      <td>NaN</td>\n",
       "      <td>3.0</td>\n",
       "      <td>0.5,0.5,3</td>\n",
       "      <td>384x384x19x1</td>\n",
       "      <td>t2_tse_tra</td>\n",
       "      <td>10</td>\n",
       "      <td>t2_tse_tra_ProstateX_0186.nii.gz</td>\n",
       "    </tr>\n",
       "  </tbody>\n",
       "</table>\n",
       "</div>"
      ],
      "text/plain": [
       "             ProxID         Name  fid  \\\n",
       "2    ProstateX-0001  t2_tse_tra0    1   \n",
       "224  ProstateX-0123  t2_tse_tra0    1   \n",
       "377  ProstateX-0186  t2_tse_tra0    2   \n",
       "378  ProstateX-0186  t2_tse_tra0    1   \n",
       "\n",
       "                                                   pos  \\\n",
       "2    -40.5367071921656 29.320722668457 -16.70766907...   \n",
       "224                            20.8643 30.9437 29.9455   \n",
       "377                             11.8551 32.938 20.8921   \n",
       "378                          -0.209802 19.6911 22.6179   \n",
       "\n",
       "                                           WorldMatrix         ijk  TopLevel  \\\n",
       "2    0.5,1.02552e-010,-4.64581e-017,-119.205,-1.019...  157 186 10       1.0   \n",
       "224  0.5,1.02552e-010,1.40962e-016,-83.3017,-1.0089...   208 227 7       NaN   \n",
       "377  0.5,1.02552e-010,1.83796e-017,-92.2174,-9.6119...   208 217 7       NaN   \n",
       "378  0.5,1.02552e-010,1.83796e-017,-92.2174,-9.6119...   184 191 6       NaN   \n",
       "\n",
       "     SpacingBetweenSlices VoxelSpacing           Dim DCMSerDescr  DCMSerNum  \\\n",
       "2                     3.0    0.5,0.5,3  384x384x19x1  t2_tse_tra         10   \n",
       "224                   3.0    0.5,0.5,3  384x384x21x1  t2_tse_tra         10   \n",
       "377                   3.0    0.5,0.5,3  384x384x19x1  t2_tse_tra         10   \n",
       "378                   3.0    0.5,0.5,3  384x384x19x1  t2_tse_tra         10   \n",
       "\n",
       "                                      match  \n",
       "2    t2_tse_tra_ProstateX_0001_s0010.nii.gz  \n",
       "224  t2_tse_tra_ProstateX_0123_s0010.nii.gz  \n",
       "377  t2_tse_tra_ProstateX_0186_s0010.nii.gz  \n",
       "378        t2_tse_tra_ProstateX_0186.nii.gz  "
      ]
     },
     "execution_count": 13,
     "metadata": {},
     "output_type": "execute_result"
    }
   ],
   "source": [
    "t2_df.loc[t2_df['DCMSerNum']==10]"
   ]
  },
  {
   "cell_type": "code",
   "execution_count": null,
   "metadata": {},
   "outputs": [],
   "source": []
  },
  {
   "cell_type": "code",
   "execution_count": null,
   "metadata": {},
   "outputs": [],
   "source": []
  },
  {
   "cell_type": "code",
   "execution_count": null,
   "metadata": {},
   "outputs": [],
   "source": [
    "matching_dict = {i: k for i in data_all['ProxID'] for k in directory if i.split('-')[-1] in k}\n",
    "\n",
    "matching_dict"
   ]
  },
  {
   "cell_type": "code",
   "execution_count": null,
   "metadata": {},
   "outputs": [],
   "source": [
    "#Making new column with physical coordinates of the findings \n",
    "#In order to do that, we should first read image, than get pos and finally transfer physical point to index\n",
    "\n",
    "#first of all we should match ProxID and read image \n",
    "\n",
    "#for reading image we have to undestand which image to read, get its path and match it with correct pos\n",
    "\n",
    "#find ProxID -- find filename -- match proxid with filename -- find pos -- read image -- transform image pos to index\n",
    "\n",
    "def phys_to_index_col(data, folder):\n",
    "    directory = os.listdir(folder)\n",
    "    for i in directory: \n",
    "        for k in data['ProxID']:\n",
    "            if k.split('-')[-1] in i: \n",
    "                pos=[float(i) for i in (data['pos'].loc[data['ProxID']==k][0]).split(' ')]\n",
    "                im = sitk.ReadImage(folder+i)\n",
    "                data['index'].loc[data['ProxID']==k]=im.TransformPhysicalPointToIndex(pos)\n",
    "\n"
   ]
  },
  {
   "cell_type": "code",
   "execution_count": null,
   "metadata": {},
   "outputs": [],
   "source": [
    "a=[float(i) for i in (data_all['pos'].loc[data['ProxID']=='ProstateX-0000'][0]).split(' ')]\n",
    "\n",
    "data_new['ProxID'][1]\n",
    "data_new.loc[data_new['ProxID']=='ProstateX-0002'].index[0]\n",
    "\n",
    "a"
   ]
  },
  {
   "cell_type": "code",
   "execution_count": null,
   "metadata": {},
   "outputs": [],
   "source": [
    "data_all['pos'].loc[data['ProxID']=='ProstateX-0191']\n",
    "directory"
   ]
  },
  {
   "cell_type": "code",
   "execution_count": null,
   "metadata": {},
   "outputs": [],
   "source": [
    "for i in directory:\n",
    "    for k in data_all['ProxID']:\n",
    "        if k.split('-')[-1] in i: \n",
    "            print(k)\n",
    "            pos=[float(i) for i in (data_all['pos'].loc[data_all['ProxID']==k][data_all.loc[data['ProxID']==k].index[0]]).split(' ')]\n",
    "            print(pos)\n"
   ]
  },
  {
   "cell_type": "code",
   "execution_count": null,
   "metadata": {},
   "outputs": [],
   "source": []
  },
  {
   "cell_type": "code",
   "execution_count": null,
   "metadata": {},
   "outputs": [],
   "source": []
  },
  {
   "cell_type": "code",
   "execution_count": null,
   "metadata": {},
   "outputs": [],
   "source": [
    "extract = sitk.ExtractImageFilter()\n",
    "extract.SetSize([64,64,0])\n",
    "extract.SetIndex([153-20, 166-32, 12])\n",
    "extracted = extract.Execute(im)\n",
    "\n",
    "extr_arr = sitk.GetArrayFromImage(extracted)\n",
    "plt.imshow(extr_arr,cmap='gray')"
   ]
  },
  {
   "cell_type": "code",
   "execution_count": null,
   "metadata": {},
   "outputs": [],
   "source": [
    "extract = sitk.ExtractImageFilter()\n",
    "extract.SetSize([64,64,0])\n",
    "extract.SetIndex([203-20, 168-32, 9])\n",
    "extracted = extract.Execute(im)\n",
    "\n",
    "extr_arr = sitk.GetArrayFromImage(extracted)\n",
    "plt.imshow(extr_arr,cmap='gray')\n",
    "\n"
   ]
  },
  {
   "cell_type": "code",
   "execution_count": null,
   "metadata": {},
   "outputs": [],
   "source": [
    "im = sitk.ReadImage('C://Image Processing/ProstateX/t2/t2_tse_tra_ProstateX_0002.nii')\n",
    "im_arr = sitk.GetArrayFromImage(im)\n",
    "im_sl_9 = im_arr[9,:,:]\n",
    "im_sl_9 = sitk.GetImageFromArray(im_sl_9)\n",
    "\n",
    "extract = sitk.ExtractImageFilter()\n",
    "extract.SetSize([32,32])\n",
    "extract.SetIndex([203-20, 168-32])\n",
    "extracted_image = extract.Execute(im_sl_9)\n",
    "\n",
    "\n",
    "extrcated_arr = sitk.GetArrayFromImage(extracted_image)\n",
    "\n",
    "plt.imshow(extrcated_arr, cmap = 'gray')"
   ]
  },
  {
   "cell_type": "code",
   "execution_count": null,
   "metadata": {},
   "outputs": [],
   "source": [
    "myshow(im_arr,9)"
   ]
  },
  {
   "cell_type": "code",
   "execution_count": null,
   "metadata": {
    "scrolled": true
   },
   "outputs": [],
   "source": [
    "pos = [-27.0102, 41.5467, -26.0469]\n",
    "ijk = im.TransformPhysicalPointToIndex(pos)\n",
    "\n",
    "print(ijk)"
   ]
  },
  {
   "cell_type": "code",
   "execution_count": null,
   "metadata": {},
   "outputs": [],
   "source": [
    "im = sitk.ReadImage('C://Image Processing/ProstateX/resampled/ep2d_diff_tra_DYNDIST_ADC_ProstateX_0000.nii')\n",
    "im_arr = sitk.GetArrayFromImage(im)\n",
    "\n",
    "im_sl_8 = im_arr[9,:,:]\n",
    "im_sl_8 = sitk.GetImageFromArray(im_sl_8)\n",
    "\n",
    "extract = sitk.ExtractImageFilter()\n",
    "extract.SetSize([36,36])\n",
    "extract.SetIndex([36, 72 ])\n",
    "extracted_image = extract.Execute(im_sl_8)\n",
    "\n",
    "\n",
    "extrcated_arr = sitk.GetArrayFromImage(extracted_image)\n",
    "\n",
    "plt.imshow(extrcated_arr, cmap = 'gray')"
   ]
  },
  {
   "cell_type": "code",
   "execution_count": null,
   "metadata": {},
   "outputs": [],
   "source": [
    "myshow(im_arr,9)"
   ]
  },
  {
   "cell_type": "code",
   "execution_count": null,
   "metadata": {},
   "outputs": [],
   "source": [
    "data_all.loc[data_all['ProxID']=='ProstateX-0002']"
   ]
  },
  {
   "cell_type": "code",
   "execution_count": null,
   "metadata": {},
   "outputs": [],
   "source": []
  },
  {
   "cell_type": "code",
   "execution_count": null,
   "metadata": {},
   "outputs": [],
   "source": []
  }
 ],
 "metadata": {
  "kernelspec": {
   "display_name": "Python 3",
   "language": "python",
   "name": "python3"
  },
  "language_info": {
   "codemirror_mode": {
    "name": "ipython",
    "version": 3
   },
   "file_extension": ".py",
   "mimetype": "text/x-python",
   "name": "python",
   "nbconvert_exporter": "python",
   "pygments_lexer": "ipython3",
   "version": "3.6.4"
  }
 },
 "nbformat": 4,
 "nbformat_minor": 2
}
